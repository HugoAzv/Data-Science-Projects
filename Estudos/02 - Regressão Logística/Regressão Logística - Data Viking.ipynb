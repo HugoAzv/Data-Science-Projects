{
 "cells": [
  {
   "cell_type": "markdown",
   "id": "d5da4de7-4f54-4e20-9e16-3385e5bb6405",
   "metadata": {},
   "source": [
    "# Exemplo de Regressão Linear\n",
    "\n",
    "O foco é avaliar o limite do empréstimo para alguém que possui um salário X"
   ]
  },
  {
   "cell_type": "markdown",
   "id": "5666735b-32ee-4041-ab95-7c76e4e3b3fa",
   "metadata": {},
   "source": [
    "## Lendo os dados do modelo"
   ]
  },
  {
   "cell_type": "code",
   "execution_count": 1,
   "id": "eabd3210-7515-41c4-a8b9-c3ff0cc597fb",
   "metadata": {},
   "outputs": [],
   "source": [
    "# importando bibliotecas\n",
    "import pandas as pd\n",
    "import numpy as np\n",
    "import matplotlib.pyplot as plt\n",
    "import seaborn as sns\n",
    "\n",
    "sns.set(style=\"ticks\", context=\"talk\")\n",
    "plt.style.use(\"dark_background\")"
   ]
  },
  {
   "cell_type": "code",
   "execution_count": 2,
   "id": "315940c9-22d2-4ea3-8b13-0524b5860673",
   "metadata": {},
   "outputs": [
    {
     "data": {
      "text/html": [
       "<div>\n",
       "<style scoped>\n",
       "    .dataframe tbody tr th:only-of-type {\n",
       "        vertical-align: middle;\n",
       "    }\n",
       "\n",
       "    .dataframe tbody tr th {\n",
       "        vertical-align: top;\n",
       "    }\n",
       "\n",
       "    .dataframe thead th {\n",
       "        text-align: right;\n",
       "    }\n",
       "</style>\n",
       "<table border=\"1\" class=\"dataframe\">\n",
       "  <thead>\n",
       "    <tr style=\"text-align: right;\">\n",
       "      <th></th>\n",
       "      <th>Id Cliente</th>\n",
       "      <th>Renda</th>\n",
       "      <th>Tipo Renda</th>\n",
       "      <th>Possui Imóvel</th>\n",
       "      <th>Comprou?</th>\n",
       "    </tr>\n",
       "  </thead>\n",
       "  <tbody>\n",
       "    <tr>\n",
       "      <th>0</th>\n",
       "      <td>1</td>\n",
       "      <td>10480</td>\n",
       "      <td>1</td>\n",
       "      <td>2</td>\n",
       "      <td>1</td>\n",
       "    </tr>\n",
       "    <tr>\n",
       "      <th>1</th>\n",
       "      <td>2</td>\n",
       "      <td>6182</td>\n",
       "      <td>2</td>\n",
       "      <td>2</td>\n",
       "      <td>1</td>\n",
       "    </tr>\n",
       "    <tr>\n",
       "      <th>2</th>\n",
       "      <td>3</td>\n",
       "      <td>6387</td>\n",
       "      <td>3</td>\n",
       "      <td>1</td>\n",
       "      <td>0</td>\n",
       "    </tr>\n",
       "    <tr>\n",
       "      <th>3</th>\n",
       "      <td>4</td>\n",
       "      <td>6528</td>\n",
       "      <td>1</td>\n",
       "      <td>2</td>\n",
       "      <td>0</td>\n",
       "    </tr>\n",
       "    <tr>\n",
       "      <th>4</th>\n",
       "      <td>5</td>\n",
       "      <td>8269</td>\n",
       "      <td>1</td>\n",
       "      <td>2</td>\n",
       "      <td>0</td>\n",
       "    </tr>\n",
       "    <tr>\n",
       "      <th>...</th>\n",
       "      <td>...</td>\n",
       "      <td>...</td>\n",
       "      <td>...</td>\n",
       "      <td>...</td>\n",
       "      <td>...</td>\n",
       "    </tr>\n",
       "    <tr>\n",
       "      <th>95</th>\n",
       "      <td>96</td>\n",
       "      <td>3238</td>\n",
       "      <td>1</td>\n",
       "      <td>2</td>\n",
       "      <td>0</td>\n",
       "    </tr>\n",
       "    <tr>\n",
       "      <th>96</th>\n",
       "      <td>97</td>\n",
       "      <td>10701</td>\n",
       "      <td>1</td>\n",
       "      <td>2</td>\n",
       "      <td>1</td>\n",
       "    </tr>\n",
       "    <tr>\n",
       "      <th>97</th>\n",
       "      <td>98</td>\n",
       "      <td>14732</td>\n",
       "      <td>1</td>\n",
       "      <td>2</td>\n",
       "      <td>0</td>\n",
       "    </tr>\n",
       "    <tr>\n",
       "      <th>98</th>\n",
       "      <td>99</td>\n",
       "      <td>4790</td>\n",
       "      <td>1</td>\n",
       "      <td>2</td>\n",
       "      <td>1</td>\n",
       "    </tr>\n",
       "    <tr>\n",
       "      <th>99</th>\n",
       "      <td>100</td>\n",
       "      <td>14026</td>\n",
       "      <td>2</td>\n",
       "      <td>2</td>\n",
       "      <td>1</td>\n",
       "    </tr>\n",
       "  </tbody>\n",
       "</table>\n",
       "<p>100 rows × 5 columns</p>\n",
       "</div>"
      ],
      "text/plain": [
       "    Id Cliente  Renda  Tipo Renda  Possui Imóvel  Comprou?\n",
       "0            1  10480           1              2         1\n",
       "1            2   6182           2              2         1\n",
       "2            3   6387           3              1         0\n",
       "3            4   6528           1              2         0\n",
       "4            5   8269           1              2         0\n",
       "..         ...    ...         ...            ...       ...\n",
       "95          96   3238           1              2         0\n",
       "96          97  10701           1              2         1\n",
       "97          98  14732           1              2         0\n",
       "98          99   4790           1              2         1\n",
       "99         100  14026           2              2         1\n",
       "\n",
       "[100 rows x 5 columns]"
      ]
     },
     "execution_count": 2,
     "metadata": {},
     "output_type": "execute_result"
    }
   ],
   "source": [
    "data = pd.read_excel('BaseDados_RegressaoLogistica.xlsx', 'Plan1')\n",
    "data"
   ]
  },
  {
   "cell_type": "markdown",
   "id": "fe80ddeb-fa5d-4157-88cc-58d10ac8e480",
   "metadata": {},
   "source": [
    "Entendendo as variáveis:\n",
    "\n",
    "Tipo de Renda = Var. Categórica \\\n",
    "1 = Assalariado \\\n",
    "2 = Autônomo \\\n",
    "3 = Empresário \n",
    "\n",
    "Possui Imóvel = Var. Categórica \\\n",
    "1 = Sim \\\n",
    "2 = Não \n",
    "\n",
    "Comprou? = Var. Categórica \\\n",
    "1 = Comprou \\\n",
    "0 = Não Comprou "
   ]
  },
  {
   "cell_type": "code",
   "execution_count": 3,
   "id": "373c4e9d-a63b-4540-b43c-dad85aafb042",
   "metadata": {},
   "outputs": [
    {
     "name": "stdout",
     "output_type": "stream",
     "text": [
      "<class 'pandas.core.frame.DataFrame'>\n",
      "RangeIndex: 100 entries, 0 to 99\n",
      "Data columns (total 5 columns):\n",
      " #   Column         Non-Null Count  Dtype\n",
      "---  ------         --------------  -----\n",
      " 0   Id Cliente     100 non-null    int64\n",
      " 1   Renda          100 non-null    int64\n",
      " 2   Tipo Renda     100 non-null    int64\n",
      " 3   Possui Imóvel  100 non-null    int64\n",
      " 4   Comprou?       100 non-null    int64\n",
      "dtypes: int64(5)\n",
      "memory usage: 4.0 KB\n"
     ]
    }
   ],
   "source": [
    "data.info()"
   ]
  },
  {
   "cell_type": "code",
   "execution_count": 4,
   "id": "7aef5286-7a17-4ca4-8f8d-76c961047afb",
   "metadata": {},
   "outputs": [
    {
     "data": {
      "text/html": [
       "<div>\n",
       "<style scoped>\n",
       "    .dataframe tbody tr th:only-of-type {\n",
       "        vertical-align: middle;\n",
       "    }\n",
       "\n",
       "    .dataframe tbody tr th {\n",
       "        vertical-align: top;\n",
       "    }\n",
       "\n",
       "    .dataframe thead th {\n",
       "        text-align: right;\n",
       "    }\n",
       "</style>\n",
       "<table border=\"1\" class=\"dataframe\">\n",
       "  <thead>\n",
       "    <tr style=\"text-align: right;\">\n",
       "      <th></th>\n",
       "      <th>Id Cliente</th>\n",
       "      <th>Renda</th>\n",
       "      <th>Tipo Renda</th>\n",
       "      <th>Possui Imóvel</th>\n",
       "      <th>Comprou?</th>\n",
       "    </tr>\n",
       "  </thead>\n",
       "  <tbody>\n",
       "    <tr>\n",
       "      <th>count</th>\n",
       "      <td>100.000000</td>\n",
       "      <td>100.00000</td>\n",
       "      <td>100.000000</td>\n",
       "      <td>100.00000</td>\n",
       "      <td>100.000000</td>\n",
       "    </tr>\n",
       "    <tr>\n",
       "      <th>mean</th>\n",
       "      <td>50.500000</td>\n",
       "      <td>8520.77000</td>\n",
       "      <td>1.400000</td>\n",
       "      <td>1.85000</td>\n",
       "      <td>0.640000</td>\n",
       "    </tr>\n",
       "    <tr>\n",
       "      <th>std</th>\n",
       "      <td>29.011492</td>\n",
       "      <td>4039.01965</td>\n",
       "      <td>0.710669</td>\n",
       "      <td>0.35887</td>\n",
       "      <td>0.482418</td>\n",
       "    </tr>\n",
       "    <tr>\n",
       "      <th>min</th>\n",
       "      <td>1.000000</td>\n",
       "      <td>1643.00000</td>\n",
       "      <td>1.000000</td>\n",
       "      <td>1.00000</td>\n",
       "      <td>0.000000</td>\n",
       "    </tr>\n",
       "    <tr>\n",
       "      <th>25%</th>\n",
       "      <td>25.750000</td>\n",
       "      <td>5455.25000</td>\n",
       "      <td>1.000000</td>\n",
       "      <td>2.00000</td>\n",
       "      <td>0.000000</td>\n",
       "    </tr>\n",
       "    <tr>\n",
       "      <th>50%</th>\n",
       "      <td>50.500000</td>\n",
       "      <td>8824.00000</td>\n",
       "      <td>1.000000</td>\n",
       "      <td>2.00000</td>\n",
       "      <td>1.000000</td>\n",
       "    </tr>\n",
       "    <tr>\n",
       "      <th>75%</th>\n",
       "      <td>75.250000</td>\n",
       "      <td>12036.00000</td>\n",
       "      <td>2.000000</td>\n",
       "      <td>2.00000</td>\n",
       "      <td>1.000000</td>\n",
       "    </tr>\n",
       "    <tr>\n",
       "      <th>max</th>\n",
       "      <td>100.000000</td>\n",
       "      <td>14994.00000</td>\n",
       "      <td>3.000000</td>\n",
       "      <td>2.00000</td>\n",
       "      <td>1.000000</td>\n",
       "    </tr>\n",
       "  </tbody>\n",
       "</table>\n",
       "</div>"
      ],
      "text/plain": [
       "       Id Cliente        Renda  Tipo Renda  Possui Imóvel    Comprou?\n",
       "count  100.000000    100.00000  100.000000      100.00000  100.000000\n",
       "mean    50.500000   8520.77000    1.400000        1.85000    0.640000\n",
       "std     29.011492   4039.01965    0.710669        0.35887    0.482418\n",
       "min      1.000000   1643.00000    1.000000        1.00000    0.000000\n",
       "25%     25.750000   5455.25000    1.000000        2.00000    0.000000\n",
       "50%     50.500000   8824.00000    1.000000        2.00000    1.000000\n",
       "75%     75.250000  12036.00000    2.000000        2.00000    1.000000\n",
       "max    100.000000  14994.00000    3.000000        2.00000    1.000000"
      ]
     },
     "execution_count": 4,
     "metadata": {},
     "output_type": "execute_result"
    }
   ],
   "source": [
    "data.describe()"
   ]
  },
  {
   "cell_type": "markdown",
   "id": "a86f9e2d-637f-4c9f-9791-182d9096b6ad",
   "metadata": {},
   "source": [
    "## Análise Exploratória"
   ]
  },
  {
   "cell_type": "code",
   "execution_count": 7,
   "id": "104f1c0a-860f-4e36-ab29-487aec38ad7f",
   "metadata": {},
   "outputs": [
    {
     "data": {
      "image/png": "[encoded data removed]",
      "text/plain": [
       "<Figure size 1440x720 with 6 Axes>"
      ]
     },
     "metadata": {},
     "output_type": "display_data"
    }
   ],
   "source": [
    "sns.set( font_scale=1.3, rc={ 'figure.figsize':(20,10) } )\n",
    "eixo = data.hist( bins=20, color='blue' )"
   ]
  },
  {
   "cell_type": "code",
   "execution_count": 9,
   "id": "4faf833c-560c-447c-b5d2-7058de6a608c",
   "metadata": {},
   "outputs": [
    {
     "data": {
      "image/png": "[encoded data removed]",
      "text/plain": [
       "<Figure size 1440x720 with 1 Axes>"
      ]
     },
     "metadata": {},
     "output_type": "display_data"
    }
   ],
   "source": [
    "plt.figure( figsize=(20,10) )\n",
    "sns.boxplot( data=data, x='Tipo Renda', y='Renda' );"
   ]
  },
  {
   "cell_type": "code",
   "execution_count": 10,
   "id": "c4a1c6b5-96a5-48e7-a0fd-eaddaba68873",
   "metadata": {},
   "outputs": [
    {
     "data": {
      "image/png": "[encoded data removed]",
      "text/plain": [
       "<Figure size 1440x720 with 1 Axes>"
      ]
     },
     "metadata": {},
     "output_type": "display_data"
    }
   ],
   "source": [
    "plt.figure( figsize=(20,10) )\n",
    "sns.boxplot( data=data, x='Possui Imóvel', y='Renda' );"
   ]
  },
  {
   "cell_type": "code",
   "execution_count": 12,
   "id": "0291373f-e0b3-41a6-acf6-274fe9dc49d4",
   "metadata": {},
   "outputs": [
    {
     "data": {
      "image/png": "[encoded data removed]",
      "text/plain": [
       "<Figure size 1440x720 with 1 Axes>"
      ]
     },
     "metadata": {},
     "output_type": "display_data"
    }
   ],
   "source": [
    "plt.figure( figsize=(20,10) )\n",
    "sns.boxplot( data=data, x='Comprou?', y='Renda' );"
   ]
  },
  {
   "cell_type": "markdown",
   "id": "85115116-0e1a-413d-a1c7-ab202f67567f",
   "metadata": {},
   "source": [
    "Há um padrão para esse caso, quem comprou imóvel tende a possuir uma renda maior\n",
    "\n",
    "Pode ser também observado alguns outliers no grupo de pessoas que não comprou imóvel e tem uma renda muito alta"
   ]
  },
  {
   "cell_type": "code",
   "execution_count": 14,
   "id": "a76ac01c-9bc1-43cf-9add-9511b55f6b0a",
   "metadata": {},
   "outputs": [
    {
     "data": {
      "image/png": "[encoded data removed]",
      "text/plain": [
       "<Figure size 1440x720 with 1 Axes>"
      ]
     },
     "metadata": {},
     "output_type": "display_data"
    }
   ],
   "source": [
    "plt.figure( figsize=(20,10) )\n",
    "sns.scatterplot(data=data, x='Renda', y='Comprou?');"
   ]
  },
  {
   "cell_type": "markdown",
   "id": "a04a46a8-8c31-4075-bc84-516030c9c2c6",
   "metadata": {},
   "source": [
    "É fáicl observar que dá para usar um modelo de regressão logística para avaliar o problema"
   ]
  },
  {
   "cell_type": "markdown",
   "id": "43868611-7d4b-4497-940b-752c9469998f",
   "metadata": {},
   "source": [
    "## Separando os dados em Treino e Testes"
   ]
  },
  {
   "cell_type": "code",
   "execution_count": 48,
   "id": "3b2f1510-c906-44ba-85a7-175c3af86bf1",
   "metadata": {},
   "outputs": [],
   "source": [
    "Característica = data.iloc[:, 1:4].values\n",
    "Previsor = data.iloc[:, 4:5].values"
   ]
  },
  {
   "cell_type": "code",
   "execution_count": 49,
   "id": "da2a38f6-ce91-4116-8d14-1158ed2c06f2",
   "metadata": {},
   "outputs": [
    {
     "data": {
      "text/plain": [
       "array([[10480,     1,     2],\n",
       "       [ 6182,     2,     2],\n",
       "       [ 6387,     3,     1],\n",
       "       [ 6528,     1,     2],\n",
       "       [ 8269,     1,     2],\n",
       "       [ 6903,     1,     2],\n",
       "       [ 1947,     1,     2],\n",
       "       [14008,     1,     2],\n",
       "       [ 2213,     1,     2],\n",
       "       [13321,     2,     2]], dtype=int64)"
      ]
     },
     "execution_count": 49,
     "metadata": {},
     "output_type": "execute_result"
    }
   ],
   "source": [
    "Característica[:10]"
   ]
  },
  {
   "cell_type": "code",
   "execution_count": 50,
   "id": "ed33821e-1498-4fd3-96c1-d07f96ded9f0",
   "metadata": {},
   "outputs": [
    {
     "data": {
      "text/plain": [
       "array([[1],\n",
       "       [1],\n",
       "       [0],\n",
       "       [0],\n",
       "       [0],\n",
       "       [1],\n",
       "       [0],\n",
       "       [1],\n",
       "       [0],\n",
       "       [1]], dtype=int64)"
      ]
     },
     "execution_count": 50,
     "metadata": {},
     "output_type": "execute_result"
    }
   ],
   "source": [
    "Previsor[:10]"
   ]
  },
  {
   "cell_type": "code",
   "execution_count": 51,
   "id": "f9ca68b3-25c1-47ee-ae04-a20fd665187f",
   "metadata": {},
   "outputs": [],
   "source": [
    "from sklearn.model_selection import train_test_split\n",
    "\n",
    "x_treino, x_teste, y_treino, y_teste = train_test_split(Característica, Previsor, test_size =0.20, random_state = 10) # 20% dos dados ficaram para teste e 80% para treino"
   ]
  },
  {
   "cell_type": "code",
   "execution_count": 52,
   "id": "c62e387e-75c3-4dae-ac52-5497004e42fc",
   "metadata": {},
   "outputs": [
    {
     "data": {
      "text/plain": [
       "(80, 20)"
      ]
     },
     "execution_count": 52,
     "metadata": {},
     "output_type": "execute_result"
    }
   ],
   "source": [
    "len(x_treino), len(x_teste)"
   ]
  },
  {
   "cell_type": "markdown",
   "id": "02c14955-a696-46e1-95b0-b5208eee373a",
   "metadata": {},
   "source": [
    "## Treinando o Modelo"
   ]
  },
  {
   "cell_type": "code",
   "execution_count": 53,
   "id": "a1b9e3c6-696f-4d6d-b9c9-dbeaeb8bf7a5",
   "metadata": {},
   "outputs": [
    {
     "data": {
      "text/plain": [
       "LogisticRegression()"
      ]
     },
     "execution_count": 53,
     "metadata": {},
     "output_type": "execute_result"
    }
   ],
   "source": [
    "from sklearn.linear_model import LogisticRegression\n",
    "\n",
    "reglog = LogisticRegression()\n",
    "reglog.fit( x_treino, y_treino.ravel() )"
   ]
  },
  {
   "cell_type": "code",
   "execution_count": 54,
   "id": "509105ce-73dc-4230-acbf-9e393a54993c",
   "metadata": {},
   "outputs": [
    {
     "data": {
      "text/plain": [
       "array([0, 1, 1, 1, 1, 1, 1, 0, 0, 1, 1, 0, 0, 1, 0, 1, 0, 1, 1, 1],\n",
       "      dtype=int64)"
      ]
     },
     "execution_count": 54,
     "metadata": {},
     "output_type": "execute_result"
    }
   ],
   "source": [
    "Previsoes = reglog.predict(x_teste)\n",
    "Previsoes"
   ]
  },
  {
   "cell_type": "code",
   "execution_count": 55,
   "id": "e6ebfd46-8706-4ca5-ba5a-85361dc93be6",
   "metadata": {},
   "outputs": [
    {
     "data": {
      "text/plain": [
       "array([0, 1, 1, 1, 1, 0, 1, 0, 0, 1, 0, 1, 0, 1, 0, 1, 0, 1, 1, 1],\n",
       "      dtype=int64)"
      ]
     },
     "execution_count": 55,
     "metadata": {},
     "output_type": "execute_result"
    }
   ],
   "source": [
    "# y_teste.reshape(1,-1)\n",
    "y_teste.ravel()"
   ]
  },
  {
   "cell_type": "markdown",
   "id": "17d3e08d-470b-4c33-b312-0ee7b001832c",
   "metadata": {},
   "source": [
    "## Avaliando o Desempenho do Modelo"
   ]
  },
  {
   "cell_type": "code",
   "execution_count": 56,
   "id": "4792bb33-86ff-47ae-8a1d-4ada5ad530a6",
   "metadata": {},
   "outputs": [
    {
     "data": {
      "text/plain": [
       "array([[ 6,  2],\n",
       "       [ 1, 11]], dtype=int64)"
      ]
     },
     "execution_count": 56,
     "metadata": {},
     "output_type": "execute_result"
    }
   ],
   "source": [
    "from sklearn.metrics import confusion_matrix\n",
    "\n",
    "confusion_matrix( y_teste, Previsoes )"
   ]
  },
  {
   "cell_type": "code",
   "execution_count": 57,
   "id": "a888da89-1c0e-4374-9753-781f8bf778a4",
   "metadata": {},
   "outputs": [
    {
     "name": "stdout",
     "output_type": "stream",
     "text": [
      "              precision    recall  f1-score   support\n",
      "\n",
      "           0       0.86      0.75      0.80         8\n",
      "           1       0.85      0.92      0.88        12\n",
      "\n",
      "    accuracy                           0.85        20\n",
      "   macro avg       0.85      0.83      0.84        20\n",
      "weighted avg       0.85      0.85      0.85        20\n",
      "\n"
     ]
    }
   ],
   "source": [
    "from sklearn.metrics import classification_report\n",
    "\n",
    "print( classification_report( y_teste, Previsoes ) )"
   ]
  },
  {
   "cell_type": "markdown",
   "id": "94aaec53-e3ea-4bb5-a4dc-c1a24ba5ba3c",
   "metadata": {},
   "source": [
    "## Testando Novos Valores"
   ]
  },
  {
   "cell_type": "code",
   "execution_count": 58,
   "id": "2dfe922b-b191-4f91-b215-0437783aeb19",
   "metadata": {},
   "outputs": [
    {
     "name": "stdout",
     "output_type": "stream",
     "text": [
      "Irá comprar!!!\n",
      "Este cliente possui 0.455 chance de não comprar e 0.545 chance de comprar.\n",
      "[[0.45486011 0.54513989]]\n"
     ]
    }
   ],
   "source": [
    "# Novo Cliente na Tenda\n",
    "Salario = 4500\n",
    "Tipo_Renda = 1\n",
    "Possui_Imovel = 1\n",
    "\n",
    "Parametro = [[Salario, Tipo_Renda, Possui_Imovel]]\n",
    "Fazendo_Previsao = reglog.predict(Parametro)\n",
    "Probabilidade = reglog.predict_proba(Parametro)\n",
    "\n",
    "if Fazendo_Previsao == 0:\n",
    "    print(\"Não ira comprar\")\n",
    "    print(\"Este cliente possui %.3f chance de não comprar e %.3f chance de comprar.\" %(Probabilidade[0][0], Probabilidade[0][1]))\n",
    "    print( Probabilidade )\n",
    "else:\n",
    "    print(\"Irá comprar!!!\")\n",
    "    print(\"Este cliente possui %.3f chance de não comprar e %.3f chance de comprar.\" %(Probabilidade[0][0], Probabilidade[0][1]))\n",
    "    print( Probabilidade )"
   ]
  }
 ],
 "metadata": {
  "kernelspec": {
   "display_name": "Python 3",
   "language": "python",
   "name": "python3"
  },
  "language_info": {
   "codemirror_mode": {
    "name": "ipython",
    "version": 3
   },
   "file_extension": ".py",
   "mimetype": "text/x-python",
   "name": "python",
   "nbconvert_exporter": "python",
   "pygments_lexer": "ipython3",
   "version": "3.7.3"
  }
 },
 "nbformat": 4,
 "nbformat_minor": 5
}

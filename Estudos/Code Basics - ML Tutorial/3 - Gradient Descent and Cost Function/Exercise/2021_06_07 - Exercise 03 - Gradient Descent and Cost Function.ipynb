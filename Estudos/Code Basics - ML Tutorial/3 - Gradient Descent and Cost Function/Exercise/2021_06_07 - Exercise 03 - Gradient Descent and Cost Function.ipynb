{
 "cells": [
  {
   "cell_type": "markdown",
   "id": "562b6a23-96d6-4a87-8631-ef7c2a1048fe",
   "metadata": {},
   "source": [
    "# Given the Mathematics and Computer Science scores, the Exercise is to come up with a linear function for given test results using gradient descent"
   ]
  },
  {
   "cell_type": "markdown",
   "id": "7059ace3-d954-4416-8046-24ea61463e18",
   "metadata": {},
   "source": [
    "## Importing Libraries and Collecting Data"
   ]
  },
  {
   "cell_type": "code",
   "execution_count": 2,
   "id": "c33ae283-4f65-4eda-8484-c74bb737fee2",
   "metadata": {},
   "outputs": [],
   "source": [
    "import numpy as np\n",
    "import pandas as pd\n",
    "import seaborn as sns\n",
    "import matplotlib.pyplot as plt\n",
    "from sklearn import linear_model\n",
    "\n",
    "sns.set()\n",
    "plt.style.use('dark_background')"
   ]
  },
  {
   "cell_type": "code",
   "execution_count": 3,
   "id": "0efb9545-11a4-4ba6-898d-113a6c3587ef",
   "metadata": {},
   "outputs": [
    {
     "data": {
      "text/html": [
       "<div>\n",
       "<style scoped>\n",
       "    .dataframe tbody tr th:only-of-type {\n",
       "        vertical-align: middle;\n",
       "    }\n",
       "\n",
       "    .dataframe tbody tr th {\n",
       "        vertical-align: top;\n",
       "    }\n",
       "\n",
       "    .dataframe thead th {\n",
       "        text-align: right;\n",
       "    }\n",
       "</style>\n",
       "<table border=\"1\" class=\"dataframe\">\n",
       "  <thead>\n",
       "    <tr style=\"text-align: right;\">\n",
       "      <th></th>\n",
       "      <th>name</th>\n",
       "      <th>math</th>\n",
       "      <th>cs</th>\n",
       "    </tr>\n",
       "  </thead>\n",
       "  <tbody>\n",
       "    <tr>\n",
       "      <th>0</th>\n",
       "      <td>david</td>\n",
       "      <td>92</td>\n",
       "      <td>98</td>\n",
       "    </tr>\n",
       "    <tr>\n",
       "      <th>1</th>\n",
       "      <td>laura</td>\n",
       "      <td>56</td>\n",
       "      <td>68</td>\n",
       "    </tr>\n",
       "    <tr>\n",
       "      <th>2</th>\n",
       "      <td>sanjay</td>\n",
       "      <td>88</td>\n",
       "      <td>81</td>\n",
       "    </tr>\n",
       "    <tr>\n",
       "      <th>3</th>\n",
       "      <td>wei</td>\n",
       "      <td>70</td>\n",
       "      <td>80</td>\n",
       "    </tr>\n",
       "    <tr>\n",
       "      <th>4</th>\n",
       "      <td>jeff</td>\n",
       "      <td>80</td>\n",
       "      <td>83</td>\n",
       "    </tr>\n",
       "    <tr>\n",
       "      <th>5</th>\n",
       "      <td>aamir</td>\n",
       "      <td>49</td>\n",
       "      <td>52</td>\n",
       "    </tr>\n",
       "    <tr>\n",
       "      <th>6</th>\n",
       "      <td>venkat</td>\n",
       "      <td>65</td>\n",
       "      <td>66</td>\n",
       "    </tr>\n",
       "    <tr>\n",
       "      <th>7</th>\n",
       "      <td>virat</td>\n",
       "      <td>35</td>\n",
       "      <td>30</td>\n",
       "    </tr>\n",
       "    <tr>\n",
       "      <th>8</th>\n",
       "      <td>arthur</td>\n",
       "      <td>66</td>\n",
       "      <td>68</td>\n",
       "    </tr>\n",
       "    <tr>\n",
       "      <th>9</th>\n",
       "      <td>paul</td>\n",
       "      <td>67</td>\n",
       "      <td>73</td>\n",
       "    </tr>\n",
       "  </tbody>\n",
       "</table>\n",
       "</div>"
      ],
      "text/plain": [
       "     name  math  cs\n",
       "0   david    92  98\n",
       "1   laura    56  68\n",
       "2  sanjay    88  81\n",
       "3     wei    70  80\n",
       "4    jeff    80  83\n",
       "5   aamir    49  52\n",
       "6  venkat    65  66\n",
       "7   virat    35  30\n",
       "8  arthur    66  68\n",
       "9    paul    67  73"
      ]
     },
     "execution_count": 3,
     "metadata": {},
     "output_type": "execute_result"
    }
   ],
   "source": [
    "df = pd.read_csv('test_scores.csv')\n",
    "df"
   ]
  },
  {
   "cell_type": "code",
   "execution_count": 15,
   "id": "bb864026-654d-423a-866b-fcea28868b0d",
   "metadata": {},
   "outputs": [],
   "source": [
    "X = df.math.values.reshape(-1,1)\n",
    "y = df.cs.values.reshape(-1,1)"
   ]
  },
  {
   "cell_type": "code",
   "execution_count": 16,
   "id": "39205784-5625-4bee-b5ad-e9c439e0e001",
   "metadata": {},
   "outputs": [
    {
     "data": {
      "text/plain": [
       "array([[92],\n",
       "       [56],\n",
       "       [88],\n",
       "       [70],\n",
       "       [80],\n",
       "       [49],\n",
       "       [65],\n",
       "       [35],\n",
       "       [66],\n",
       "       [67]], dtype=int64)"
      ]
     },
     "execution_count": 16,
     "metadata": {},
     "output_type": "execute_result"
    }
   ],
   "source": [
    "X"
   ]
  },
  {
   "cell_type": "code",
   "execution_count": 17,
   "id": "c8be8344-5c0b-493a-a83f-9dd02651e810",
   "metadata": {},
   "outputs": [
    {
     "data": {
      "text/plain": [
       "array([[98],\n",
       "       [68],\n",
       "       [81],\n",
       "       [80],\n",
       "       [83],\n",
       "       [52],\n",
       "       [66],\n",
       "       [30],\n",
       "       [68],\n",
       "       [73]], dtype=int64)"
      ]
     },
     "execution_count": 17,
     "metadata": {},
     "output_type": "execute_result"
    }
   ],
   "source": [
    "y"
   ]
  },
  {
   "cell_type": "markdown",
   "id": "72ab0493-c386-4a67-af9f-0b2932db7337",
   "metadata": {},
   "source": [
    "## Creating and Fitting the Linear Regression Model"
   ]
  },
  {
   "cell_type": "code",
   "execution_count": 18,
   "id": "1278c394-afcd-4aa9-9ca2-50a5148d18c1",
   "metadata": {},
   "outputs": [
    {
     "data": {
      "text/plain": [
       "LinearRegression()"
      ]
     },
     "execution_count": 18,
     "metadata": {},
     "output_type": "execute_result"
    }
   ],
   "source": [
    "reg = linear_model.LinearRegression()\n",
    "reg.fit(X,y)"
   ]
  },
  {
   "cell_type": "code",
   "execution_count": 20,
   "id": "9008990b-5030-478e-93cd-08eaede5802b",
   "metadata": {},
   "outputs": [
    {
     "data": {
      "text/plain": [
       "(array([[1.01773624]]), array([1.91521931]))"
      ]
     },
     "execution_count": 20,
     "metadata": {},
     "output_type": "execute_result"
    }
   ],
   "source": [
    "m_sklearn = reg.coef_\n",
    "b_sklearn = reg.intercept_\n",
    "\n",
    "m_sklearn, b_sklearn"
   ]
  },
  {
   "cell_type": "markdown",
   "id": "8971ba90-fdec-4bdf-8845-992ab6290847",
   "metadata": {},
   "source": [
    "## Calculating the Loss Function"
   ]
  },
  {
   "cell_type": "code",
   "execution_count": 28,
   "id": "a700bab4-b7e4-4ad6-b386-88f42e07f4b7",
   "metadata": {},
   "outputs": [],
   "source": [
    "import math\n",
    "\n",
    "def gradient_descent(x,y):\n",
    "    \"\"\"\n",
    "    x and y must be numpy array\n",
    "    \"\"\"\n",
    "    m_curr = 0\n",
    "    b_curr = 0\n",
    "    iterations = 1000000\n",
    "    n = len(x)\n",
    "    learning_rate = 0.0002\n",
    "    \n",
    "    previous_cost = 0\n",
    "\n",
    "    for i in range(iterations):\n",
    "        y_predicted = m_curr*x + b_curr\n",
    "        cost = (1/n) * sum([val**2 for val in (y-y_predicted)]) # mean squared error - MSE\n",
    "        md = -(2/n)*sum(x*(y-y_predicted)) # del cost/ del m\n",
    "        bd = -(2/n)*sum(y-y_predicted) # del cost/ del b\n",
    "        m_curr = m_curr - learning_rate*md\n",
    "        b_curr = b_curr - learning_rate*bd\n",
    "        if math.isclose(cost, previous_cost, rel_tol=1e-20):\n",
    "            break\n",
    "        previous_cost = cost\n",
    "        \n",
    "    return m_curr, b_curr"
   ]
  },
  {
   "cell_type": "code",
   "execution_count": 29,
   "id": "d8c547cd-b1de-4fab-9a78-2366a96e5745",
   "metadata": {},
   "outputs": [
    {
     "data": {
      "text/plain": [
       "(array([1.01773817]), array([1.91508262]))"
      ]
     },
     "execution_count": 29,
     "metadata": {},
     "output_type": "execute_result"
    }
   ],
   "source": [
    "m_Grad_Desc, b_Grad_Desc = gradient_descent(X,y)\n",
    "m_Grad_Desc, b_Grad_Desc"
   ]
  },
  {
   "cell_type": "markdown",
   "id": "5fa1fc59-3fe0-46bf-8acf-f1b63e37226b",
   "metadata": {},
   "source": [
    "## Comparing the Results from SkLearn and Gradient_Descent Function"
   ]
  },
  {
   "cell_type": "markdown",
   "id": "6b90e61d-a9eb-4608-b297-87a8ae484b00",
   "metadata": {},
   "source": [
    "### Slope = m"
   ]
  },
  {
   "cell_type": "code",
   "execution_count": 36,
   "id": "1c0f0681-3dd8-42f8-96e1-6a9fab003a15",
   "metadata": {},
   "outputs": [
    {
     "name": "stdout",
     "output_type": "stream",
     "text": [
      "1.017736237856933 1.0177381667350405\n"
     ]
    },
    {
     "data": {
      "text/plain": [
       "0.00018952632673488017"
      ]
     },
     "execution_count": 36,
     "metadata": {},
     "output_type": "execute_result"
    }
   ],
   "source": [
    "print(m_sklearn[0][0], m_Grad_Desc[0])\n",
    "error_m = abs(m_sklearn[0][0] - m_Grad_Desc[0])/m_sklearn[0][0]\n",
    "error_m*100"
   ]
  },
  {
   "cell_type": "markdown",
   "id": "cd54bcb4-dc3a-476b-9339-25805ea82bb1",
   "metadata": {},
   "source": [
    "### Intercept = b"
   ]
  },
  {
   "cell_type": "code",
   "execution_count": 41,
   "id": "fc1cb564-5353-4ccb-8bed-81ba29ac8f71",
   "metadata": {},
   "outputs": [
    {
     "name": "stdout",
     "output_type": "stream",
     "text": [
      "1.9152193111568891 1.9150826165722297\n"
     ]
    },
    {
     "data": {
      "text/plain": [
       "0.007137281034249276"
      ]
     },
     "execution_count": 41,
     "metadata": {},
     "output_type": "execute_result"
    }
   ],
   "source": [
    "print(b_sklearn[0], b_Grad_Desc[0])\n",
    "error_b = abs(b_sklearn[0] - b_Grad_Desc[0])/b_sklearn[0]\n",
    "error_b*100"
   ]
  }
 ],
 "metadata": {
  "kernelspec": {
   "display_name": "Python 3",
   "language": "python",
   "name": "python3"
  },
  "language_info": {
   "codemirror_mode": {
    "name": "ipython",
    "version": 3
   },
   "file_extension": ".py",
   "mimetype": "text/x-python",
   "name": "python",
   "nbconvert_exporter": "python",
   "pygments_lexer": "ipython3",
   "version": "3.7.3"
  }
 },
 "nbformat": 4,
 "nbformat_minor": 5
}

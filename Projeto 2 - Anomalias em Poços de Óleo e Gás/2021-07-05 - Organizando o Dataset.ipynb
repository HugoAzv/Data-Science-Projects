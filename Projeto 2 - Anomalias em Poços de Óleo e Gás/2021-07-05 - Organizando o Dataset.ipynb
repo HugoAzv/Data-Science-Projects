{
 "cells": [
  {
   "cell_type": "markdown",
   "id": "fde89a84-0926-4aa6-b0fe-24cbdb66fe53",
   "metadata": {},
   "source": [
    "# ABSTRACT\n",
    "\n",
    "UNSUPERVISED LEARNING ALGORITHMS APPLIED TO ANOMALY DETECTION IN OIL AND GAS WELLS\n",
    "\n",
    "Monitoring through sensors is a powerful tool in the evaluation of vibrations, loads, deformations, among other problems in which gathering data allows to detect undesirable events that may arise in structures. Growing opportunities have been observed in companies offering sensing, monitoring, and digital transformation services, which offer cost reduction, increased operational safety and improved performance. Technologies for processing the data collected by sensors using machine learning (ML) methodologies have proven to be efficient tools in engineering processes. In the context of petroleum engineering, the prediction and detection of unexpected events stands out, by supporting decision-making processes and adding value to products and services. Thus, this paper aims to study and develop ML-based models for detecting anomalous states in oil wells, by applying classical techniques such as Support Vector Machines, Isolation Forest and Deep Neural Network. It is expected to compare the efficiency of these methodologies applied to time series datasets of pressure, temperature and flow rate, allowing to predict the anomaly occurrence and generate alerts to the production operator. It is observed the practical application and potential of the proposed methodologies for the intended product, being able to improve the fault detection process in oil wells, as well as ensure their integrity.\n",
    "\n",
    "Machine learning; Autoencoder; LSTM"
   ]
  },
  {
   "cell_type": "markdown",
   "id": "006f2ce7-02bc-4746-bdf8-c351107f9b90",
   "metadata": {},
   "source": [
    "# Etapas\n",
    "1. Ler o Artigos do Vargas\n",
    "2. Selecionar tipo de anomalia a ser analisada\n",
    "3. Tratar os dados para usar nos moodelos\n",
    "4. Selecionar Modelos\n",
    "    - SVM One Class\n",
    "    - Isolation Forest\n",
    "    - LSTM\n",
    "    - Autoencoders\n",
    "5. Testar Modelos\n",
    "6. Analisar Métricas"
   ]
  },
  {
   "cell_type": "markdown",
   "id": "5ed5336a-ea32-4e1b-848b-9e8aa894c7f9",
   "metadata": {},
   "source": [
    "# 1. Bibliotecas"
   ]
  },
  {
   "cell_type": "code",
   "execution_count": 1,
   "id": "8864eae5-73c5-40b3-a055-fe5a220f62d0",
   "metadata": {},
   "outputs": [],
   "source": [
    "import numpy as np\n",
    "import pandas as pd\n",
    "import seaborn as sns\n",
    "import matplotlib.pyplot as plt\n",
    "\n",
    "sns.set()"
   ]
  },
  {
   "cell_type": "markdown",
   "id": "4de07341-30f1-4e96-a556-116b879c4909",
   "metadata": {},
   "source": [
    "# 2. Dataset"
   ]
  },
  {
   "cell_type": "code",
   "execution_count": 2,
   "id": "f93303fd-420f-4c9f-92b0-3bc402ccf8cf",
   "metadata": {},
   "outputs": [
    {
     "data": {
      "text/html": [
       "<div>\n",
       "<style scoped>\n",
       "    .dataframe tbody tr th:only-of-type {\n",
       "        vertical-align: middle;\n",
       "    }\n",
       "\n",
       "    .dataframe tbody tr th {\n",
       "        vertical-align: top;\n",
       "    }\n",
       "\n",
       "    .dataframe thead th {\n",
       "        text-align: right;\n",
       "    }\n",
       "</style>\n",
       "<table border=\"1\" class=\"dataframe\">\n",
       "  <thead>\n",
       "    <tr style=\"text-align: right;\">\n",
       "      <th></th>\n",
       "      <th>P-PDG</th>\n",
       "      <th>P-TPT</th>\n",
       "      <th>T-TPT</th>\n",
       "      <th>P-MON-CKP</th>\n",
       "      <th>T-JUS-CKP</th>\n",
       "      <th>P-JUS-CKGL</th>\n",
       "      <th>T-JUS-CKGL</th>\n",
       "      <th>QGL</th>\n",
       "      <th>class</th>\n",
       "    </tr>\n",
       "    <tr>\n",
       "      <th>timestamp</th>\n",
       "      <th></th>\n",
       "      <th></th>\n",
       "      <th></th>\n",
       "      <th></th>\n",
       "      <th></th>\n",
       "      <th></th>\n",
       "      <th></th>\n",
       "      <th></th>\n",
       "      <th></th>\n",
       "    </tr>\n",
       "  </thead>\n",
       "  <tbody>\n",
       "    <tr>\n",
       "      <th>2017-10-31 19:30:25</th>\n",
       "      <td>0.0</td>\n",
       "      <td>13359720.0</td>\n",
       "      <td>106.8783</td>\n",
       "      <td>5757488.0</td>\n",
       "      <td>72.78588</td>\n",
       "      <td>NaN</td>\n",
       "      <td>NaN</td>\n",
       "      <td>NaN</td>\n",
       "      <td>0.0</td>\n",
       "    </tr>\n",
       "    <tr>\n",
       "      <th>2017-10-31 19:30:26</th>\n",
       "      <td>0.0</td>\n",
       "      <td>13360870.0</td>\n",
       "      <td>106.8603</td>\n",
       "      <td>5757488.0</td>\n",
       "      <td>72.78550</td>\n",
       "      <td>NaN</td>\n",
       "      <td>NaN</td>\n",
       "      <td>NaN</td>\n",
       "      <td>0.0</td>\n",
       "    </tr>\n",
       "    <tr>\n",
       "      <th>2017-10-31 19:30:27</th>\n",
       "      <td>0.0</td>\n",
       "      <td>13362020.0</td>\n",
       "      <td>106.8423</td>\n",
       "      <td>5757488.0</td>\n",
       "      <td>72.78513</td>\n",
       "      <td>NaN</td>\n",
       "      <td>NaN</td>\n",
       "      <td>NaN</td>\n",
       "      <td>0.0</td>\n",
       "    </tr>\n",
       "    <tr>\n",
       "      <th>2017-10-31 19:30:28</th>\n",
       "      <td>0.0</td>\n",
       "      <td>13364320.0</td>\n",
       "      <td>106.8513</td>\n",
       "      <td>5757488.0</td>\n",
       "      <td>72.78474</td>\n",
       "      <td>NaN</td>\n",
       "      <td>NaN</td>\n",
       "      <td>NaN</td>\n",
       "      <td>0.0</td>\n",
       "    </tr>\n",
       "    <tr>\n",
       "      <th>2017-10-31 19:30:29</th>\n",
       "      <td>0.0</td>\n",
       "      <td>13366620.0</td>\n",
       "      <td>106.8603</td>\n",
       "      <td>5757488.0</td>\n",
       "      <td>72.78437</td>\n",
       "      <td>NaN</td>\n",
       "      <td>NaN</td>\n",
       "      <td>NaN</td>\n",
       "      <td>0.0</td>\n",
       "    </tr>\n",
       "  </tbody>\n",
       "</table>\n",
       "</div>"
      ],
      "text/plain": [
       "                     P-PDG       P-TPT     T-TPT  P-MON-CKP  T-JUS-CKP  \\\n",
       "timestamp                                                                \n",
       "2017-10-31 19:30:25    0.0  13359720.0  106.8783  5757488.0   72.78588   \n",
       "2017-10-31 19:30:26    0.0  13360870.0  106.8603  5757488.0   72.78550   \n",
       "2017-10-31 19:30:27    0.0  13362020.0  106.8423  5757488.0   72.78513   \n",
       "2017-10-31 19:30:28    0.0  13364320.0  106.8513  5757488.0   72.78474   \n",
       "2017-10-31 19:30:29    0.0  13366620.0  106.8603  5757488.0   72.78437   \n",
       "\n",
       "                     P-JUS-CKGL  T-JUS-CKGL  QGL  class  \n",
       "timestamp                                                \n",
       "2017-10-31 19:30:25         NaN         NaN  NaN    0.0  \n",
       "2017-10-31 19:30:26         NaN         NaN  NaN    0.0  \n",
       "2017-10-31 19:30:27         NaN         NaN  NaN    0.0  \n",
       "2017-10-31 19:30:28         NaN         NaN  NaN    0.0  \n",
       "2017-10-31 19:30:29         NaN         NaN  NaN    0.0  "
      ]
     },
     "execution_count": 2,
     "metadata": {},
     "output_type": "execute_result"
    }
   ],
   "source": [
    "dataFile = '6/WELL-00004_20171031193025.csv'\n",
    "df = pd.read_csv(dataFile, index_col='timestamp', parse_dates=['timestamp'])\n",
    "df.head()"
   ]
  },
  {
   "cell_type": "markdown",
   "id": "9bcbb876-0e3e-4247-b1cb-aeb4391bdc80",
   "metadata": {},
   "source": [
    "# 3. EDA - Exploratory Data Analysis"
   ]
  },
  {
   "cell_type": "code",
   "execution_count": 3,
   "id": "da297ed3-316a-4616-b861-ec3ed0499364",
   "metadata": {},
   "outputs": [
    {
     "data": {
      "text/html": [
       "<div>\n",
       "<style scoped>\n",
       "    .dataframe tbody tr th:only-of-type {\n",
       "        vertical-align: middle;\n",
       "    }\n",
       "\n",
       "    .dataframe tbody tr th {\n",
       "        vertical-align: top;\n",
       "    }\n",
       "\n",
       "    .dataframe thead th {\n",
       "        text-align: right;\n",
       "    }\n",
       "</style>\n",
       "<table border=\"1\" class=\"dataframe\">\n",
       "  <thead>\n",
       "    <tr style=\"text-align: right;\">\n",
       "      <th></th>\n",
       "      <th>P-PDG</th>\n",
       "      <th>P-TPT</th>\n",
       "      <th>T-TPT</th>\n",
       "      <th>P-MON-CKP</th>\n",
       "      <th>T-JUS-CKP</th>\n",
       "      <th>P-JUS-CKGL</th>\n",
       "      <th>T-JUS-CKGL</th>\n",
       "      <th>QGL</th>\n",
       "      <th>class</th>\n",
       "    </tr>\n",
       "  </thead>\n",
       "  <tbody>\n",
       "    <tr>\n",
       "      <th>count</th>\n",
       "      <td>1079.0</td>\n",
       "      <td>1.079000e+03</td>\n",
       "      <td>1079.000000</td>\n",
       "      <td>1.079000e+03</td>\n",
       "      <td>1079.000000</td>\n",
       "      <td>0.0</td>\n",
       "      <td>0.0</td>\n",
       "      <td>0.0</td>\n",
       "      <td>1059.000000</td>\n",
       "    </tr>\n",
       "    <tr>\n",
       "      <th>mean</th>\n",
       "      <td>0.0</td>\n",
       "      <td>1.341278e+07</td>\n",
       "      <td>106.841783</td>\n",
       "      <td>5.885876e+06</td>\n",
       "      <td>72.582101</td>\n",
       "      <td>NaN</td>\n",
       "      <td>NaN</td>\n",
       "      <td>NaN</td>\n",
       "      <td>51.435316</td>\n",
       "    </tr>\n",
       "    <tr>\n",
       "      <th>std</th>\n",
       "      <td>0.0</td>\n",
       "      <td>3.641133e+04</td>\n",
       "      <td>0.028772</td>\n",
       "      <td>1.329051e+05</td>\n",
       "      <td>0.117816</td>\n",
       "      <td>NaN</td>\n",
       "      <td>NaN</td>\n",
       "      <td>NaN</td>\n",
       "      <td>52.253005</td>\n",
       "    </tr>\n",
       "    <tr>\n",
       "      <th>min</th>\n",
       "      <td>0.0</td>\n",
       "      <td>1.335743e+07</td>\n",
       "      <td>106.747800</td>\n",
       "      <td>5.734155e+06</td>\n",
       "      <td>72.378320</td>\n",
       "      <td>NaN</td>\n",
       "      <td>NaN</td>\n",
       "      <td>NaN</td>\n",
       "      <td>0.000000</td>\n",
       "    </tr>\n",
       "    <tr>\n",
       "      <th>25%</th>\n",
       "      <td>0.0</td>\n",
       "      <td>1.338386e+07</td>\n",
       "      <td>106.837800</td>\n",
       "      <td>5.741654e+06</td>\n",
       "      <td>72.480210</td>\n",
       "      <td>NaN</td>\n",
       "      <td>NaN</td>\n",
       "      <td>NaN</td>\n",
       "      <td>0.000000</td>\n",
       "    </tr>\n",
       "    <tr>\n",
       "      <th>50%</th>\n",
       "      <td>0.0</td>\n",
       "      <td>1.338960e+07</td>\n",
       "      <td>106.846800</td>\n",
       "      <td>5.922261e+06</td>\n",
       "      <td>72.582100</td>\n",
       "      <td>NaN</td>\n",
       "      <td>NaN</td>\n",
       "      <td>NaN</td>\n",
       "      <td>6.000000</td>\n",
       "    </tr>\n",
       "    <tr>\n",
       "      <th>75%</th>\n",
       "      <td>0.0</td>\n",
       "      <td>1.345453e+07</td>\n",
       "      <td>106.855800</td>\n",
       "      <td>6.016541e+06</td>\n",
       "      <td>72.683990</td>\n",
       "      <td>NaN</td>\n",
       "      <td>NaN</td>\n",
       "      <td>NaN</td>\n",
       "      <td>106.000000</td>\n",
       "    </tr>\n",
       "    <tr>\n",
       "      <th>max</th>\n",
       "      <td>0.0</td>\n",
       "      <td>1.347464e+07</td>\n",
       "      <td>106.900800</td>\n",
       "      <td>6.055821e+06</td>\n",
       "      <td>72.785880</td>\n",
       "      <td>NaN</td>\n",
       "      <td>NaN</td>\n",
       "      <td>NaN</td>\n",
       "      <td>106.000000</td>\n",
       "    </tr>\n",
       "  </tbody>\n",
       "</table>\n",
       "</div>"
      ],
      "text/plain": [
       "        P-PDG         P-TPT        T-TPT     P-MON-CKP    T-JUS-CKP  \\\n",
       "count  1079.0  1.079000e+03  1079.000000  1.079000e+03  1079.000000   \n",
       "mean      0.0  1.341278e+07   106.841783  5.885876e+06    72.582101   \n",
       "std       0.0  3.641133e+04     0.028772  1.329051e+05     0.117816   \n",
       "min       0.0  1.335743e+07   106.747800  5.734155e+06    72.378320   \n",
       "25%       0.0  1.338386e+07   106.837800  5.741654e+06    72.480210   \n",
       "50%       0.0  1.338960e+07   106.846800  5.922261e+06    72.582100   \n",
       "75%       0.0  1.345453e+07   106.855800  6.016541e+06    72.683990   \n",
       "max       0.0  1.347464e+07   106.900800  6.055821e+06    72.785880   \n",
       "\n",
       "       P-JUS-CKGL  T-JUS-CKGL  QGL        class  \n",
       "count         0.0         0.0  0.0  1059.000000  \n",
       "mean          NaN         NaN  NaN    51.435316  \n",
       "std           NaN         NaN  NaN    52.253005  \n",
       "min           NaN         NaN  NaN     0.000000  \n",
       "25%           NaN         NaN  NaN     0.000000  \n",
       "50%           NaN         NaN  NaN     6.000000  \n",
       "75%           NaN         NaN  NaN   106.000000  \n",
       "max           NaN         NaN  NaN   106.000000  "
      ]
     },
     "execution_count": 3,
     "metadata": {},
     "output_type": "execute_result"
    }
   ],
   "source": [
    "df.describe()"
   ]
  },
  {
   "cell_type": "code",
   "execution_count": 4,
   "id": "0146d944-ddb6-4beb-95ec-3dd1304919ce",
   "metadata": {},
   "outputs": [
    {
     "name": "stdout",
     "output_type": "stream",
     "text": [
      "<class 'pandas.core.frame.DataFrame'>\n",
      "DatetimeIndex: 1079 entries, 2017-10-31 19:30:25 to 2017-10-31 19:48:23\n",
      "Data columns (total 9 columns):\n",
      " #   Column      Non-Null Count  Dtype  \n",
      "---  ------      --------------  -----  \n",
      " 0   P-PDG       1079 non-null   float64\n",
      " 1   P-TPT       1079 non-null   float64\n",
      " 2   T-TPT       1079 non-null   float64\n",
      " 3   P-MON-CKP   1079 non-null   float64\n",
      " 4   T-JUS-CKP   1079 non-null   float64\n",
      " 5   P-JUS-CKGL  0 non-null      float64\n",
      " 6   T-JUS-CKGL  0 non-null      float64\n",
      " 7   QGL         0 non-null      float64\n",
      " 8   class       1059 non-null   float64\n",
      "dtypes: float64(9)\n",
      "memory usage: 84.3 KB\n"
     ]
    }
   ],
   "source": [
    "df.info()"
   ]
  },
  {
   "cell_type": "code",
   "execution_count": 5,
   "id": "a470189d-9697-42fd-a8ee-e63aaa9b3b22",
   "metadata": {},
   "outputs": [
    {
     "data": {
      "text/plain": [
       "P-PDG            0\n",
       "P-TPT            0\n",
       "T-TPT            0\n",
       "P-MON-CKP        0\n",
       "T-JUS-CKP        0\n",
       "P-JUS-CKGL    1079\n",
       "T-JUS-CKGL    1079\n",
       "QGL           1079\n",
       "class           20\n",
       "dtype: int64"
      ]
     },
     "execution_count": 5,
     "metadata": {},
     "output_type": "execute_result"
    }
   ],
   "source": [
    "df.isnull().sum()"
   ]
  },
  {
   "cell_type": "code",
   "execution_count": 22,
   "id": "3b752218-cfb9-4e4f-b09c-c931c6395a1f",
   "metadata": {},
   "outputs": [
    {
     "data": {
      "text/html": [
       "<div>\n",
       "<style scoped>\n",
       "    .dataframe tbody tr th:only-of-type {\n",
       "        vertical-align: middle;\n",
       "    }\n",
       "\n",
       "    .dataframe tbody tr th {\n",
       "        vertical-align: top;\n",
       "    }\n",
       "\n",
       "    .dataframe thead th {\n",
       "        text-align: right;\n",
       "    }\n",
       "</style>\n",
       "<table border=\"1\" class=\"dataframe\">\n",
       "  <thead>\n",
       "    <tr style=\"text-align: right;\">\n",
       "      <th></th>\n",
       "      <th>P-TPT</th>\n",
       "      <th>T-TPT</th>\n",
       "      <th>P-MON-CKP</th>\n",
       "      <th>T-JUS-CKP</th>\n",
       "      <th>class</th>\n",
       "    </tr>\n",
       "    <tr>\n",
       "      <th>timestamp</th>\n",
       "      <th></th>\n",
       "      <th></th>\n",
       "      <th></th>\n",
       "      <th></th>\n",
       "      <th></th>\n",
       "    </tr>\n",
       "  </thead>\n",
       "  <tbody>\n",
       "    <tr>\n",
       "      <th>2017-10-31 19:30:25</th>\n",
       "      <td>13359720.0</td>\n",
       "      <td>106.8783</td>\n",
       "      <td>5757488.0</td>\n",
       "      <td>72.78588</td>\n",
       "      <td>0.0</td>\n",
       "    </tr>\n",
       "    <tr>\n",
       "      <th>2017-10-31 19:30:26</th>\n",
       "      <td>13360870.0</td>\n",
       "      <td>106.8603</td>\n",
       "      <td>5757488.0</td>\n",
       "      <td>72.78550</td>\n",
       "      <td>0.0</td>\n",
       "    </tr>\n",
       "    <tr>\n",
       "      <th>2017-10-31 19:30:27</th>\n",
       "      <td>13362020.0</td>\n",
       "      <td>106.8423</td>\n",
       "      <td>5757488.0</td>\n",
       "      <td>72.78513</td>\n",
       "      <td>0.0</td>\n",
       "    </tr>\n",
       "    <tr>\n",
       "      <th>2017-10-31 19:30:28</th>\n",
       "      <td>13364320.0</td>\n",
       "      <td>106.8513</td>\n",
       "      <td>5757488.0</td>\n",
       "      <td>72.78474</td>\n",
       "      <td>0.0</td>\n",
       "    </tr>\n",
       "    <tr>\n",
       "      <th>2017-10-31 19:30:29</th>\n",
       "      <td>13366620.0</td>\n",
       "      <td>106.8603</td>\n",
       "      <td>5757488.0</td>\n",
       "      <td>72.78437</td>\n",
       "      <td>0.0</td>\n",
       "    </tr>\n",
       "  </tbody>\n",
       "</table>\n",
       "</div>"
      ],
      "text/plain": [
       "                          P-TPT     T-TPT  P-MON-CKP  T-JUS-CKP  class\n",
       "timestamp                                                             \n",
       "2017-10-31 19:30:25  13359720.0  106.8783  5757488.0   72.78588    0.0\n",
       "2017-10-31 19:30:26  13360870.0  106.8603  5757488.0   72.78550    0.0\n",
       "2017-10-31 19:30:27  13362020.0  106.8423  5757488.0   72.78513    0.0\n",
       "2017-10-31 19:30:28  13364320.0  106.8513  5757488.0   72.78474    0.0\n",
       "2017-10-31 19:30:29  13366620.0  106.8603  5757488.0   72.78437    0.0"
      ]
     },
     "execution_count": 22,
     "metadata": {},
     "output_type": "execute_result"
    }
   ],
   "source": [
    "# Dropando algumas colunas tomando como base a quantidade de NaN e sabendo como um poço funciona\n",
    "\n",
    "cols_to_drop = ['P-PDG', 'P-JUS-CKGL', 'T-JUS-CKGL', 'QGL']\n",
    "df_dropped = df.drop(columns=cols_to_drop)\n",
    "df_dropped.head()"
   ]
  },
  {
   "cell_type": "markdown",
   "id": "f0369309-5673-40ee-a968-99f1467dcea8",
   "metadata": {},
   "source": [
    "# 4. Visualização"
   ]
  },
  {
   "cell_type": "code",
   "execution_count": 23,
   "id": "6e2b31cb-1bbf-43d5-a267-a8235b212639",
   "metadata": {},
   "outputs": [
    {
     "data": {
      "image/png": "[encoded data removed]",
      "text/plain": [
       "<Figure size 1440x720 with 5 Axes>"
      ]
     },
     "metadata": {},
     "output_type": "display_data"
    }
   ],
   "source": [
    "n = df_dropped.shape[1]\n",
    "fig, ax = plt.subplots(n, 1, figsize=(20,10))\n",
    "row_number = 0\n",
    "for name in df_dropped.columns:\n",
    "    df_dropped[name].plot(ax=ax[row_number], label=name, title=name)\n",
    "    row_number += 1\n",
    "\n",
    "fig.legend()\n",
    "fig.tight_layout()"
   ]
  },
  {
   "cell_type": "markdown",
   "id": "d8e964b7-af38-4825-9f61-0bb38a8fda5d",
   "metadata": {},
   "source": [
    "# 5 - Salvando o dataset de trabalho"
   ]
  },
  {
   "cell_type": "code",
   "execution_count": 24,
   "id": "d77ace43-450e-40e4-a5e3-edb6253b1f74",
   "metadata": {},
   "outputs": [
    {
     "name": "stdout",
     "output_type": "stream",
     "text": [
      "<class 'pandas.core.frame.DataFrame'>\n",
      "DatetimeIndex: 1079 entries, 2017-10-31 19:30:25 to 2017-10-31 19:48:23\n",
      "Data columns (total 5 columns):\n",
      " #   Column     Non-Null Count  Dtype  \n",
      "---  ------     --------------  -----  \n",
      " 0   P-TPT      1079 non-null   float64\n",
      " 1   T-TPT      1079 non-null   float64\n",
      " 2   P-MON-CKP  1079 non-null   float64\n",
      " 3   T-JUS-CKP  1079 non-null   float64\n",
      " 4   class      1059 non-null   float64\n",
      "dtypes: float64(5)\n",
      "memory usage: 50.6 KB\n"
     ]
    }
   ],
   "source": [
    "df_dropped.info()"
   ]
  },
  {
   "cell_type": "code",
   "execution_count": 26,
   "id": "4f9f56a4-71ae-42d5-a341-6d5f2eb908eb",
   "metadata": {},
   "outputs": [
    {
     "data": {
      "text/plain": [
       "P-TPT         0\n",
       "T-TPT         0\n",
       "P-MON-CKP     0\n",
       "T-JUS-CKP     0\n",
       "class        20\n",
       "dtype: int64"
      ]
     },
     "execution_count": 26,
     "metadata": {},
     "output_type": "execute_result"
    }
   ],
   "source": [
    "df_dropped.isnull().sum()"
   ]
  },
  {
   "cell_type": "code",
   "execution_count": 30,
   "id": "f8be8c0c-accd-4b94-a0a3-59689a013cc5",
   "metadata": {},
   "outputs": [
    {
     "data": {
      "text/plain": [
       "array([414, 415, 416, 417, 418, 419, 926, 927, 928, 929, 930, 931, 932,\n",
       "       933, 934, 935, 936, 937, 938, 939], dtype=int64)"
      ]
     },
     "execution_count": 30,
     "metadata": {},
     "output_type": "execute_result"
    }
   ],
   "source": [
    "np.where(df_dropped['class'].isnull())[0]"
   ]
  },
  {
   "cell_type": "code",
   "execution_count": 42,
   "id": "0359093c-d1cf-4152-8ff6-4ef163fed33e",
   "metadata": {},
   "outputs": [
    {
     "data": {
      "text/plain": [
       "array([  0.,  nan, 106.,   6.])"
      ]
     },
     "execution_count": 42,
     "metadata": {},
     "output_type": "execute_result"
    }
   ],
   "source": [
    "df_dropped['class'].unique()"
   ]
  },
  {
   "cell_type": "code",
   "execution_count": 49,
   "id": "8808bcd5-012d-4f2d-ae19-bc07682f9e46",
   "metadata": {},
   "outputs": [
    {
     "data": {
      "text/plain": [
       "array([0., 3., 1., 2.])"
      ]
     },
     "execution_count": 49,
     "metadata": {},
     "output_type": "execute_result"
    }
   ],
   "source": [
    "df_to_csv = df_dropped.copy()\n",
    "df_to_csv['class'].replace([0, 106, 6], [0, 1, 2], inplace=True)\n",
    "df_to_csv['class'].fillna(3, inplace=True)\n",
    "df_to_csv['class'].unique()"
   ]
  },
  {
   "cell_type": "code",
   "execution_count": 50,
   "id": "74d53341-0aa5-421f-914f-aa4eb2ffc1b7",
   "metadata": {},
   "outputs": [
    {
     "data": {
      "text/html": [
       "<div>\n",
       "<style scoped>\n",
       "    .dataframe tbody tr th:only-of-type {\n",
       "        vertical-align: middle;\n",
       "    }\n",
       "\n",
       "    .dataframe tbody tr th {\n",
       "        vertical-align: top;\n",
       "    }\n",
       "\n",
       "    .dataframe thead th {\n",
       "        text-align: right;\n",
       "    }\n",
       "</style>\n",
       "<table border=\"1\" class=\"dataframe\">\n",
       "  <thead>\n",
       "    <tr style=\"text-align: right;\">\n",
       "      <th></th>\n",
       "      <th>P-TPT</th>\n",
       "      <th>T-TPT</th>\n",
       "      <th>P-MON-CKP</th>\n",
       "      <th>T-JUS-CKP</th>\n",
       "      <th>class</th>\n",
       "    </tr>\n",
       "    <tr>\n",
       "      <th>timestamp</th>\n",
       "      <th></th>\n",
       "      <th></th>\n",
       "      <th></th>\n",
       "      <th></th>\n",
       "      <th></th>\n",
       "    </tr>\n",
       "  </thead>\n",
       "  <tbody>\n",
       "    <tr>\n",
       "      <th>2017-10-31 19:30:25</th>\n",
       "      <td>13359720.0</td>\n",
       "      <td>106.8783</td>\n",
       "      <td>5757488.0</td>\n",
       "      <td>72.78588</td>\n",
       "      <td>0.0</td>\n",
       "    </tr>\n",
       "    <tr>\n",
       "      <th>2017-10-31 19:30:26</th>\n",
       "      <td>13360870.0</td>\n",
       "      <td>106.8603</td>\n",
       "      <td>5757488.0</td>\n",
       "      <td>72.78550</td>\n",
       "      <td>0.0</td>\n",
       "    </tr>\n",
       "    <tr>\n",
       "      <th>2017-10-31 19:30:27</th>\n",
       "      <td>13362020.0</td>\n",
       "      <td>106.8423</td>\n",
       "      <td>5757488.0</td>\n",
       "      <td>72.78513</td>\n",
       "      <td>0.0</td>\n",
       "    </tr>\n",
       "    <tr>\n",
       "      <th>2017-10-31 19:30:28</th>\n",
       "      <td>13364320.0</td>\n",
       "      <td>106.8513</td>\n",
       "      <td>5757488.0</td>\n",
       "      <td>72.78474</td>\n",
       "      <td>0.0</td>\n",
       "    </tr>\n",
       "    <tr>\n",
       "      <th>2017-10-31 19:30:29</th>\n",
       "      <td>13366620.0</td>\n",
       "      <td>106.8603</td>\n",
       "      <td>5757488.0</td>\n",
       "      <td>72.78437</td>\n",
       "      <td>0.0</td>\n",
       "    </tr>\n",
       "    <tr>\n",
       "      <th>...</th>\n",
       "      <td>...</td>\n",
       "      <td>...</td>\n",
       "      <td>...</td>\n",
       "      <td>...</td>\n",
       "      <td>...</td>\n",
       "    </tr>\n",
       "    <tr>\n",
       "      <th>2017-10-31 19:48:19</th>\n",
       "      <td>13453950.0</td>\n",
       "      <td>106.7613</td>\n",
       "      <td>6051048.0</td>\n",
       "      <td>72.37983</td>\n",
       "      <td>2.0</td>\n",
       "    </tr>\n",
       "    <tr>\n",
       "      <th>2017-10-31 19:48:20</th>\n",
       "      <td>13452800.0</td>\n",
       "      <td>106.7636</td>\n",
       "      <td>6050821.0</td>\n",
       "      <td>72.37946</td>\n",
       "      <td>2.0</td>\n",
       "    </tr>\n",
       "    <tr>\n",
       "      <th>2017-10-31 19:48:21</th>\n",
       "      <td>13451650.0</td>\n",
       "      <td>106.7658</td>\n",
       "      <td>6050746.0</td>\n",
       "      <td>72.37907</td>\n",
       "      <td>2.0</td>\n",
       "    </tr>\n",
       "    <tr>\n",
       "      <th>2017-10-31 19:48:22</th>\n",
       "      <td>13452800.0</td>\n",
       "      <td>106.7636</td>\n",
       "      <td>6050670.0</td>\n",
       "      <td>72.37870</td>\n",
       "      <td>2.0</td>\n",
       "    </tr>\n",
       "    <tr>\n",
       "      <th>2017-10-31 19:48:23</th>\n",
       "      <td>13453950.0</td>\n",
       "      <td>106.7613</td>\n",
       "      <td>6050594.0</td>\n",
       "      <td>72.37832</td>\n",
       "      <td>2.0</td>\n",
       "    </tr>\n",
       "  </tbody>\n",
       "</table>\n",
       "<p>1079 rows × 5 columns</p>\n",
       "</div>"
      ],
      "text/plain": [
       "                          P-TPT     T-TPT  P-MON-CKP  T-JUS-CKP  class\n",
       "timestamp                                                             \n",
       "2017-10-31 19:30:25  13359720.0  106.8783  5757488.0   72.78588    0.0\n",
       "2017-10-31 19:30:26  13360870.0  106.8603  5757488.0   72.78550    0.0\n",
       "2017-10-31 19:30:27  13362020.0  106.8423  5757488.0   72.78513    0.0\n",
       "2017-10-31 19:30:28  13364320.0  106.8513  5757488.0   72.78474    0.0\n",
       "2017-10-31 19:30:29  13366620.0  106.8603  5757488.0   72.78437    0.0\n",
       "...                         ...       ...        ...        ...    ...\n",
       "2017-10-31 19:48:19  13453950.0  106.7613  6051048.0   72.37983    2.0\n",
       "2017-10-31 19:48:20  13452800.0  106.7636  6050821.0   72.37946    2.0\n",
       "2017-10-31 19:48:21  13451650.0  106.7658  6050746.0   72.37907    2.0\n",
       "2017-10-31 19:48:22  13452800.0  106.7636  6050670.0   72.37870    2.0\n",
       "2017-10-31 19:48:23  13453950.0  106.7613  6050594.0   72.37832    2.0\n",
       "\n",
       "[1079 rows x 5 columns]"
      ]
     },
     "execution_count": 50,
     "metadata": {},
     "output_type": "execute_result"
    }
   ],
   "source": [
    "df_to_csv"
   ]
  },
  {
   "cell_type": "code",
   "execution_count": 51,
   "id": "d5177ef7-e584-4985-ae1c-296496331a1b",
   "metadata": {},
   "outputs": [],
   "source": [
    "df_to_csv.to_csv('data_organized.csv')"
   ]
  }
 ],
 "metadata": {
  "kernelspec": {
   "display_name": "Python 3",
   "language": "python",
   "name": "python3"
  },
  "language_info": {
   "codemirror_mode": {
    "name": "ipython",
    "version": 3
   },
   "file_extension": ".py",
   "mimetype": "text/x-python",
   "name": "python",
   "nbconvert_exporter": "python",
   "pygments_lexer": "ipython3",
   "version": "3.7.3"
  }
 },
 "nbformat": 4,
 "nbformat_minor": 5
}

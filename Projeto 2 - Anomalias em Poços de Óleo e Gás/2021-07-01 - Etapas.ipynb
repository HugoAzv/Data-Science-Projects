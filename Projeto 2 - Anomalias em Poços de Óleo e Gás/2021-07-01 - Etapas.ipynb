{
 "cells": [
  {
   "cell_type": "markdown",
   "id": "fde89a84-0926-4aa6-b0fe-24cbdb66fe53",
   "metadata": {},
   "source": [
    "# ABSTRACT\n",
    "\n",
    "UNSUPERVISED LEARNING ALGORITHMS APPLIED TO ANOMALY DETECTION IN OIL AND GAS WELLS\n",
    "\n",
    "Monitoring through sensors is a powerful tool in the evaluation of vibrations, loads, deformations, among other problems in which gathering data allows to detect undesirable events that may arise in structures. Growing opportunities have been observed in companies offering sensing, monitoring, and digital transformation services, which offer cost reduction, increased operational safety and improved performance. Technologies for processing the data collected by sensors using machine learning (ML) methodologies have proven to be efficient tools in engineering processes. In the context of petroleum engineering, the prediction and detection of unexpected events stands out, by supporting decision-making processes and adding value to products and services. Thus, this paper aims to study and develop ML-based models for detecting anomalous states in oil wells, by applying classical techniques such as Support Vector Machines, Isolation Forest and Deep Neural Network. It is expected to compare the efficiency of these methodologies applied to time series datasets of pressure, temperature and flow rate, allowing to predict the anomaly occurrence and generate alerts to the production operator. It is observed the practical application and potential of the proposed methodologies for the intended product, being able to improve the fault detection process in oil wells, as well as ensure their integrity.\n",
    "\n",
    "Machine learning; Autoencoder; LSTM"
   ]
  },
  {
   "cell_type": "markdown",
   "id": "006f2ce7-02bc-4746-bdf8-c351107f9b90",
   "metadata": {},
   "source": [
    "# Etapas\n",
    "1. Ler o Artigos do Vargas\n",
    "2. Selecionar tipo de anomalia a ser analisada\n",
    "3. Tratar os dados para usar nos moodelos\n",
    "4. Selecionar Modelos\n",
    "    - SVM One Class\n",
    "    - Isolation Forest\n",
    "    - LSTM\n",
    "    - Autoencoders\n",
    "5. Testar Modelos\n",
    "6. Analisar Métricas"
   ]
  },
  {
   "cell_type": "code",
   "execution_count": 1,
   "id": "8864eae5-73c5-40b3-a055-fe5a220f62d0",
   "metadata": {},
   "outputs": [],
   "source": [
    "import os\n",
    "import pandas as pd\n",
    "\n",
    "path = os.getcwd() + r'\\2' + r'\\WELL-00002_20131104014101.csv'\n",
    "df = pd.read_csv(path)"
   ]
  },
  {
   "cell_type": "code",
   "execution_count": 2,
   "id": "25a0b7c1-544b-4371-9e01-ccb91c6bb258",
   "metadata": {},
   "outputs": [
    {
     "data": {
      "text/html": [
       "<div>\n",
       "<style scoped>\n",
       "    .dataframe tbody tr th:only-of-type {\n",
       "        vertical-align: middle;\n",
       "    }\n",
       "\n",
       "    .dataframe tbody tr th {\n",
       "        vertical-align: top;\n",
       "    }\n",
       "\n",
       "    .dataframe thead th {\n",
       "        text-align: right;\n",
       "    }\n",
       "</style>\n",
       "<table border=\"1\" class=\"dataframe\">\n",
       "  <thead>\n",
       "    <tr style=\"text-align: right;\">\n",
       "      <th></th>\n",
       "      <th>timestamp</th>\n",
       "      <th>P-PDG</th>\n",
       "      <th>P-TPT</th>\n",
       "      <th>T-TPT</th>\n",
       "      <th>P-MON-CKP</th>\n",
       "      <th>T-JUS-CKP</th>\n",
       "      <th>P-JUS-CKGL</th>\n",
       "      <th>T-JUS-CKGL</th>\n",
       "      <th>QGL</th>\n",
       "      <th>class</th>\n",
       "    </tr>\n",
       "  </thead>\n",
       "  <tbody>\n",
       "    <tr>\n",
       "      <th>0</th>\n",
       "      <td>2013-11-04 01:41:01.000000</td>\n",
       "      <td>0.0</td>\n",
       "      <td>18852350.0</td>\n",
       "      <td>116.7782</td>\n",
       "      <td>9599435.0</td>\n",
       "      <td>173.0961</td>\n",
       "      <td>2902859.0</td>\n",
       "      <td>NaN</td>\n",
       "      <td>0.0</td>\n",
       "      <td>0.0</td>\n",
       "    </tr>\n",
       "    <tr>\n",
       "      <th>1</th>\n",
       "      <td>2013-11-04 01:41:02.000000</td>\n",
       "      <td>0.0</td>\n",
       "      <td>18852350.0</td>\n",
       "      <td>116.7781</td>\n",
       "      <td>9599434.0</td>\n",
       "      <td>173.0961</td>\n",
       "      <td>2902867.0</td>\n",
       "      <td>NaN</td>\n",
       "      <td>0.0</td>\n",
       "      <td>0.0</td>\n",
       "    </tr>\n",
       "    <tr>\n",
       "      <th>2</th>\n",
       "      <td>2013-11-04 01:41:03.000000</td>\n",
       "      <td>0.0</td>\n",
       "      <td>18852350.0</td>\n",
       "      <td>116.7780</td>\n",
       "      <td>9599432.0</td>\n",
       "      <td>173.0961</td>\n",
       "      <td>2902875.0</td>\n",
       "      <td>NaN</td>\n",
       "      <td>0.0</td>\n",
       "      <td>0.0</td>\n",
       "    </tr>\n",
       "    <tr>\n",
       "      <th>3</th>\n",
       "      <td>2013-11-04 01:41:04.000000</td>\n",
       "      <td>0.0</td>\n",
       "      <td>18852350.0</td>\n",
       "      <td>116.7779</td>\n",
       "      <td>9599431.0</td>\n",
       "      <td>173.0961</td>\n",
       "      <td>2902882.0</td>\n",
       "      <td>NaN</td>\n",
       "      <td>0.0</td>\n",
       "      <td>0.0</td>\n",
       "    </tr>\n",
       "    <tr>\n",
       "      <th>4</th>\n",
       "      <td>2013-11-04 01:41:05.000000</td>\n",
       "      <td>0.0</td>\n",
       "      <td>18852350.0</td>\n",
       "      <td>116.7779</td>\n",
       "      <td>9599429.0</td>\n",
       "      <td>173.0961</td>\n",
       "      <td>2902890.0</td>\n",
       "      <td>NaN</td>\n",
       "      <td>0.0</td>\n",
       "      <td>0.0</td>\n",
       "    </tr>\n",
       "  </tbody>\n",
       "</table>\n",
       "</div>"
      ],
      "text/plain": [
       "                    timestamp  P-PDG       P-TPT     T-TPT  P-MON-CKP  \\\n",
       "0  2013-11-04 01:41:01.000000    0.0  18852350.0  116.7782  9599435.0   \n",
       "1  2013-11-04 01:41:02.000000    0.0  18852350.0  116.7781  9599434.0   \n",
       "2  2013-11-04 01:41:03.000000    0.0  18852350.0  116.7780  9599432.0   \n",
       "3  2013-11-04 01:41:04.000000    0.0  18852350.0  116.7779  9599431.0   \n",
       "4  2013-11-04 01:41:05.000000    0.0  18852350.0  116.7779  9599429.0   \n",
       "\n",
       "   T-JUS-CKP  P-JUS-CKGL  T-JUS-CKGL  QGL  class  \n",
       "0   173.0961   2902859.0         NaN  0.0    0.0  \n",
       "1   173.0961   2902867.0         NaN  0.0    0.0  \n",
       "2   173.0961   2902875.0         NaN  0.0    0.0  \n",
       "3   173.0961   2902882.0         NaN  0.0    0.0  \n",
       "4   173.0961   2902890.0         NaN  0.0    0.0  "
      ]
     },
     "execution_count": 2,
     "metadata": {},
     "output_type": "execute_result"
    }
   ],
   "source": [
    "df.head()"
   ]
  },
  {
   "cell_type": "code",
   "execution_count": 4,
   "id": "dfab6c62-7835-4314-b19d-454a322fdf83",
   "metadata": {},
   "outputs": [
    {
     "data": {
      "text/html": [
       "<div>\n",
       "<style scoped>\n",
       "    .dataframe tbody tr th:only-of-type {\n",
       "        vertical-align: middle;\n",
       "    }\n",
       "\n",
       "    .dataframe tbody tr th {\n",
       "        vertical-align: top;\n",
       "    }\n",
       "\n",
       "    .dataframe thead th {\n",
       "        text-align: right;\n",
       "    }\n",
       "</style>\n",
       "<table border=\"1\" class=\"dataframe\">\n",
       "  <thead>\n",
       "    <tr style=\"text-align: right;\">\n",
       "      <th></th>\n",
       "      <th>P-PDG</th>\n",
       "      <th>P-TPT</th>\n",
       "      <th>T-TPT</th>\n",
       "      <th>P-MON-CKP</th>\n",
       "      <th>T-JUS-CKP</th>\n",
       "      <th>P-JUS-CKGL</th>\n",
       "      <th>T-JUS-CKGL</th>\n",
       "      <th>QGL</th>\n",
       "      <th>class</th>\n",
       "    </tr>\n",
       "  </thead>\n",
       "  <tbody>\n",
       "    <tr>\n",
       "      <th>count</th>\n",
       "      <td>9121.0</td>\n",
       "      <td>9.121000e+03</td>\n",
       "      <td>9121.000000</td>\n",
       "      <td>9.121000e+03</td>\n",
       "      <td>9.121000e+03</td>\n",
       "      <td>9.121000e+03</td>\n",
       "      <td>0.0</td>\n",
       "      <td>9121.0</td>\n",
       "      <td>9062.000000</td>\n",
       "    </tr>\n",
       "    <tr>\n",
       "      <th>mean</th>\n",
       "      <td>0.0</td>\n",
       "      <td>1.366280e+07</td>\n",
       "      <td>65.583995</td>\n",
       "      <td>6.966953e+06</td>\n",
       "      <td>1.730961e+02</td>\n",
       "      <td>2.854647e+06</td>\n",
       "      <td>NaN</td>\n",
       "      <td>0.0</td>\n",
       "      <td>57.405871</td>\n",
       "    </tr>\n",
       "    <tr>\n",
       "      <th>std</th>\n",
       "      <td>0.0</td>\n",
       "      <td>4.765826e+06</td>\n",
       "      <td>45.687582</td>\n",
       "      <td>2.467599e+06</td>\n",
       "      <td>5.684654e-14</td>\n",
       "      <td>8.426010e+05</td>\n",
       "      <td>NaN</td>\n",
       "      <td>0.0</td>\n",
       "      <td>50.553062</td>\n",
       "    </tr>\n",
       "    <tr>\n",
       "      <th>min</th>\n",
       "      <td>0.0</td>\n",
       "      <td>8.259124e+06</td>\n",
       "      <td>12.244800</td>\n",
       "      <td>3.212860e+06</td>\n",
       "      <td>1.730961e+02</td>\n",
       "      <td>-5.642208e+04</td>\n",
       "      <td>NaN</td>\n",
       "      <td>0.0</td>\n",
       "      <td>0.000000</td>\n",
       "    </tr>\n",
       "    <tr>\n",
       "      <th>25%</th>\n",
       "      <td>0.0</td>\n",
       "      <td>8.506831e+06</td>\n",
       "      <td>19.088020</td>\n",
       "      <td>4.758052e+06</td>\n",
       "      <td>1.730961e+02</td>\n",
       "      <td>2.911347e+06</td>\n",
       "      <td>NaN</td>\n",
       "      <td>0.0</td>\n",
       "      <td>0.000000</td>\n",
       "    </tr>\n",
       "    <tr>\n",
       "      <th>50%</th>\n",
       "      <td>0.0</td>\n",
       "      <td>1.310402e+07</td>\n",
       "      <td>45.850320</td>\n",
       "      <td>6.537543e+06</td>\n",
       "      <td>1.730961e+02</td>\n",
       "      <td>2.928785e+06</td>\n",
       "      <td>NaN</td>\n",
       "      <td>0.0</td>\n",
       "      <td>102.000000</td>\n",
       "    </tr>\n",
       "    <tr>\n",
       "      <th>75%</th>\n",
       "      <td>0.0</td>\n",
       "      <td>1.885235e+07</td>\n",
       "      <td>116.760700</td>\n",
       "      <td>9.595620e+06</td>\n",
       "      <td>1.730961e+02</td>\n",
       "      <td>2.945322e+06</td>\n",
       "      <td>NaN</td>\n",
       "      <td>0.0</td>\n",
       "      <td>102.000000</td>\n",
       "    </tr>\n",
       "    <tr>\n",
       "      <th>max</th>\n",
       "      <td>0.0</td>\n",
       "      <td>1.885235e+07</td>\n",
       "      <td>116.832800</td>\n",
       "      <td>9.599435e+06</td>\n",
       "      <td>1.730961e+02</td>\n",
       "      <td>1.107573e+07</td>\n",
       "      <td>NaN</td>\n",
       "      <td>0.0</td>\n",
       "      <td>102.000000</td>\n",
       "    </tr>\n",
       "  </tbody>\n",
       "</table>\n",
       "</div>"
      ],
      "text/plain": [
       "        P-PDG         P-TPT        T-TPT     P-MON-CKP     T-JUS-CKP  \\\n",
       "count  9121.0  9.121000e+03  9121.000000  9.121000e+03  9.121000e+03   \n",
       "mean      0.0  1.366280e+07    65.583995  6.966953e+06  1.730961e+02   \n",
       "std       0.0  4.765826e+06    45.687582  2.467599e+06  5.684654e-14   \n",
       "min       0.0  8.259124e+06    12.244800  3.212860e+06  1.730961e+02   \n",
       "25%       0.0  8.506831e+06    19.088020  4.758052e+06  1.730961e+02   \n",
       "50%       0.0  1.310402e+07    45.850320  6.537543e+06  1.730961e+02   \n",
       "75%       0.0  1.885235e+07   116.760700  9.595620e+06  1.730961e+02   \n",
       "max       0.0  1.885235e+07   116.832800  9.599435e+06  1.730961e+02   \n",
       "\n",
       "         P-JUS-CKGL  T-JUS-CKGL     QGL        class  \n",
       "count  9.121000e+03         0.0  9121.0  9062.000000  \n",
       "mean   2.854647e+06         NaN     0.0    57.405871  \n",
       "std    8.426010e+05         NaN     0.0    50.553062  \n",
       "min   -5.642208e+04         NaN     0.0     0.000000  \n",
       "25%    2.911347e+06         NaN     0.0     0.000000  \n",
       "50%    2.928785e+06         NaN     0.0   102.000000  \n",
       "75%    2.945322e+06         NaN     0.0   102.000000  \n",
       "max    1.107573e+07         NaN     0.0   102.000000  "
      ]
     },
     "execution_count": 4,
     "metadata": {},
     "output_type": "execute_result"
    }
   ],
   "source": [
    "df.describe()"
   ]
  },
  {
   "cell_type": "code",
   "execution_count": 5,
   "id": "b2d6729f-062f-4556-b420-ef85a7f0a6eb",
   "metadata": {},
   "outputs": [
    {
     "name": "stdout",
     "output_type": "stream",
     "text": [
      "<class 'pandas.core.frame.DataFrame'>\n",
      "RangeIndex: 9121 entries, 0 to 9120\n",
      "Data columns (total 10 columns):\n",
      " #   Column      Non-Null Count  Dtype  \n",
      "---  ------      --------------  -----  \n",
      " 0   timestamp   9121 non-null   object \n",
      " 1   P-PDG       9121 non-null   float64\n",
      " 2   P-TPT       9121 non-null   float64\n",
      " 3   T-TPT       9121 non-null   float64\n",
      " 4   P-MON-CKP   9121 non-null   float64\n",
      " 5   T-JUS-CKP   9121 non-null   float64\n",
      " 6   P-JUS-CKGL  9121 non-null   float64\n",
      " 7   T-JUS-CKGL  0 non-null      float64\n",
      " 8   QGL         9121 non-null   float64\n",
      " 9   class       9062 non-null   float64\n",
      "dtypes: float64(9), object(1)\n",
      "memory usage: 712.7+ KB\n"
     ]
    }
   ],
   "source": [
    "df.info()"
   ]
  },
  {
   "cell_type": "code",
   "execution_count": 6,
   "id": "6134a37a-f3c1-42f5-b6f3-0d2569aaacc5",
   "metadata": {},
   "outputs": [
    {
     "data": {
      "text/plain": [
       "timestamp        0\n",
       "P-PDG            0\n",
       "P-TPT            0\n",
       "T-TPT            0\n",
       "P-MON-CKP        0\n",
       "T-JUS-CKP        0\n",
       "P-JUS-CKGL       0\n",
       "T-JUS-CKGL    9121\n",
       "QGL              0\n",
       "class           59\n",
       "dtype: int64"
      ]
     },
     "execution_count": 6,
     "metadata": {},
     "output_type": "execute_result"
    }
   ],
   "source": [
    "df.isnull().sum()"
   ]
  },
  {
   "cell_type": "code",
   "execution_count": 3,
   "id": "64717b63-5b4a-4eed-9d73-5d297793ad11",
   "metadata": {},
   "outputs": [
    {
     "data": {
      "text/plain": [
       "<matplotlib.axes._subplots.AxesSubplot at 0x2bdb9679dd8>"
      ]
     },
     "execution_count": 3,
     "metadata": {},
     "output_type": "execute_result"
    },
    {
     "data": {
      "image/png": "[encoded data removed]",
      "text/plain": [
       "<Figure size 432x288 with 1 Axes>"
      ]
     },
     "metadata": {
      "needs_background": "light"
     },
     "output_type": "display_data"
    }
   ],
   "source": [
    "df.plot()"
   ]
  },
  {
   "cell_type": "code",
   "execution_count": null,
   "id": "4f9f56a4-71ae-42d5-a341-6d5f2eb908eb",
   "metadata": {},
   "outputs": [],
   "source": []
  }
 ],
 "metadata": {
  "kernelspec": {
   "display_name": "Python 3",
   "language": "python",
   "name": "python3"
  },
  "language_info": {
   "codemirror_mode": {
    "name": "ipython",
    "version": 3
   },
   "file_extension": ".py",
   "mimetype": "text/x-python",
   "name": "python",
   "nbconvert_exporter": "python",
   "pygments_lexer": "ipython3",
   "version": "3.7.3"
  }
 },
 "nbformat": 4,
 "nbformat_minor": 5
}
